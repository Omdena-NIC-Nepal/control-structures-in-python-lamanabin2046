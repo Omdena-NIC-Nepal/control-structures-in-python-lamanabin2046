{
 "cells": [
  {
   "cell_type": "markdown",
   "metadata": {},
   "source": [
    "## Python Control Structures Assignment\n",
    "\n",
    "# Instructions\n",
    "Welcome to the Python Control Structures Assignment! In this assignment, you will work through a series of exercises to test your understanding of Python control structures like `while`, `for`, and `if` statements, including the use of `break` and `continue` statements. Your task is to implement the provided starter code and ensure your solutions meet the requirements.\n",
    "\n",
    "### Part 1: Looping Constructs\n",
    "\n",
    "#### Task 1: `while` loop\n",
    "- Write a `while` loop that prints all the even numbers from 0 to 20.\n",
    "- If the number reaches 16, break out of the loop."
   ]
  },
  {
   "cell_type": "code",
   "execution_count": 1,
   "metadata": {},
   "outputs": [
    {
     "name": "stdout",
     "output_type": "stream",
     "text": [
      "0\n",
      "2\n",
      "4\n",
      "6\n",
      "8\n",
      "10\n",
      "12\n",
      "14\n",
      "16\n"
     ]
    }
   ],
   "source": [
    "# Task 1: while loop\n",
    "number = 0\n",
    "while number <= 20:\n",
    "    # Your code here\n",
    "    if number % 2 == 0:\n",
    "        print(number)\n",
    "    if number == 16:\n",
    "        break\n",
    "    number += 1\n",
    "        "
   ]
  },
  {
   "cell_type": "markdown",
   "metadata": {},
   "source": [
    "#### Task 2: `for` loop with `continue`\n",
    "- Write a `for` loop that iterates through numbers from 1 to 15.\n",
    "- If the number is divisible by 3, skip printing it using the `continue` statement.\n"
   ]
  },
  {
   "cell_type": "code",
   "execution_count": 8,
   "metadata": {},
   "outputs": [
    {
     "name": "stdout",
     "output_type": "stream",
     "text": [
      "1\n",
      "2\n",
      "4\n",
      "5\n",
      "7\n",
      "8\n",
      "10\n",
      "11\n",
      "13\n",
      "14\n"
     ]
    }
   ],
   "source": [
    "# Task 2: for loop with continue\n",
    "for num in range(1, 16):\n",
    "    if num % 3 ==0:\n",
    "        continue\n",
    "    print(num)\n"
   ]
  },
  {
   "cell_type": "markdown",
   "metadata": {},
   "source": [
    "#### Task 3: `if-else` statement\n",
    "- Write an `if-else` statement that checks if a given number is positive, negative, or zero.\n",
    "- Print an appropriate message for each case."
   ]
  },
  {
   "cell_type": "code",
   "execution_count": 13,
   "metadata": {},
   "outputs": [
    {
     "name": "stdout",
     "output_type": "stream",
     "text": [
      "The entered number 12 is positive\n"
     ]
    }
   ],
   "source": [
    "# Task 3: if-else statement\n",
    "number = int(input(\"Enter a number: \"))\n",
    "# Your code here\n",
    "if number > 0:\n",
    "    print(f'The entered number {number} is positive')\n",
    "elif number < 0:\n",
    "    print(f'The entered number {number} is negative')\n",
    "else:\n",
    "    print(f'The entered number {number} is zero')"
   ]
  },
  {
   "cell_type": "markdown",
   "metadata": {},
   "source": [
    "#### Task 4: Nested loops\n",
    "- Write a program that uses nested loops to print a multiplication table for numbers 1 through 5.\n"
   ]
  },
  {
   "cell_type": "code",
   "execution_count": 22,
   "metadata": {},
   "outputs": [
    {
     "name": "stdout",
     "output_type": "stream",
     "text": [
      "1x1 = 1\t1x2 = 2\t1x3 = 3\t1x4 = 4\t1x5 = 5\t\n",
      "2x1 = 2\t2x2 = 4\t2x3 = 6\t2x4 = 8\t2x5 = 10\t\n",
      "3x1 = 3\t3x2 = 6\t3x3 = 9\t3x4 = 12\t3x5 = 15\t\n",
      "4x1 = 4\t4x2 = 8\t4x3 = 12\t4x4 = 16\t4x5 = 20\t\n",
      "5x1 = 5\t5x2 = 10\t5x3 = 15\t5x4 = 20\t5x5 = 25\t\n"
     ]
    }
   ],
   "source": [
    "# Task 4: Nested loops\n",
    "for i in range(1, 6):\n",
    "    for j in range(1, 6):\n",
    "        print(f\"{i}x{j} = {i*j}\", end='\\t')\n",
    "    print()"
   ]
  },
  {
   "cell_type": "markdown",
   "metadata": {},
   "source": []
  }
 ],
 "metadata": {
  "kernelspec": {
   "display_name": "Python 3",
   "language": "python",
   "name": "python3"
  },
  "language_info": {
   "codemirror_mode": {
    "name": "ipython",
    "version": 3
   },
   "file_extension": ".py",
   "mimetype": "text/x-python",
   "name": "python",
   "nbconvert_exporter": "python",
   "pygments_lexer": "ipython3",
   "version": "3.11.0"
  }
 },
 "nbformat": 4,
 "nbformat_minor": 2
}
